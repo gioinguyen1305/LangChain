{
 "cells": [
  {
   "cell_type": "markdown",
   "id": "291c27d1-30ac-454d-8316-9939dcbcbac1",
   "metadata": {},
   "source": [
    "### Understanding LLMs and Chat Models"
   ]
  },
  {
   "cell_type": "code",
   "execution_count": 1,
   "id": "d61f9fbd-307f-4b53-9066-ad3a9753529a",
   "metadata": {},
   "outputs": [
    {
     "name": "stderr",
     "output_type": "stream",
     "text": [
      "E:\\Hoc\\LangChain\\venv\\Lib\\site-packages\\deeplake\\util\\check_latest_version.py:32: UserWarning: A newer version of deeplake (3.8.13) is available. It's recommended that you update to the latest version using `pip install -U deeplake`.\n",
      "  warnings.warn(\n"
     ]
    }
   ],
   "source": [
    "from langchain.llms import OpenAI\n",
    "from langchain.chains import LLMChain\n",
    "from langchain.prompts import PromptTemplate\n",
    "from utils import setup_openai_key"
   ]
  },
  {
   "cell_type": "code",
   "execution_count": 2,
   "id": "d15eb9c6-2e65-4604-b262-d83f751856fa",
   "metadata": {},
   "outputs": [],
   "source": [
    "# Save OpenAI key in the environment\n",
    "setup_openai_key()"
   ]
  },
  {
   "cell_type": "code",
   "execution_count": 9,
   "id": "cae24fcc-3879-42ee-82d0-9931833de3c4",
   "metadata": {},
   "outputs": [],
   "source": [
    "llm = OpenAI(model_name=\"text-davinci-003\", temperature=0)"
   ]
  },
  {
   "cell_type": "code",
   "execution_count": 10,
   "id": "6165ee53-fdd7-4680-ac90-1da2858145da",
   "metadata": {},
   "outputs": [],
   "source": [
    "prompt = PromptTemplate(\n",
    "  input_variables=[\"product\"],\n",
    "  template=\"What is a good name for a company that makes {product}?\",\n",
    ")"
   ]
  },
  {
   "cell_type": "code",
   "execution_count": 11,
   "id": "16878b60-f687-4790-9f9b-9a08140ae4c6",
   "metadata": {},
   "outputs": [
    {
     "name": "stdout",
     "output_type": "stream",
     "text": [
      "\n",
      "\n",
      "Wireless Audio Solutions\n"
     ]
    }
   ],
   "source": [
    "chain = LLMChain(llm=llm, prompt=prompt)\n",
    "\n",
    "print( chain.run(\"wireless headphones\") )"
   ]
  },
  {
   "cell_type": "code",
   "execution_count": null,
   "id": "d775e35e-5a90-43b9-9b18-005c403db62b",
   "metadata": {},
   "outputs": [],
   "source": []
  },
  {
   "cell_type": "code",
   "execution_count": null,
   "id": "6c8dadd6-476a-4482-bc91-9796ab81087c",
   "metadata": {},
   "outputs": [],
   "source": []
  },
  {
   "cell_type": "markdown",
   "id": "32c5d2fc-85c0-487c-bccb-3d87571fe392",
   "metadata": {},
   "source": [
    "### Chat Models"
   ]
  },
  {
   "cell_type": "markdown",
   "id": "c1d4a41b-405a-4d1d-9e32-66474cb286e4",
   "metadata": {},
   "source": [
    "#### Chat Message Types"
   ]
  },
  {
   "cell_type": "markdown",
   "id": "2e0d7aaa-8825-41d4-a62a-a5a58482c2f0",
   "metadata": {},
   "source": [
    "##### Trong LangChain, ba loại tin nhắn chính được sử dụng khi tương tác với các mô hình trò chuyện: SystemMessageCopy, HumanMessageCopy, and AIMessageCopy\n",
    "- SystemMessage: Những thông báo này cung cấp hướng dẫn, ngữ cảnh hoặc dữ liệu ban đầu cho mô hình AI. Chúng đặt ra các mục tiêu mà AI phải tuân theo và có thể giúp kiểm soát hành vi của AI. SystemMessage không phải là thông tin đầu vào của người dùng mà là hướng dẫn để AI hoạt động bên trong.\n",
    "- HumanMessage: Những thông báo này đến từ người dùng và thể hiện thông tin đầu vào của họ đối với mô hình AI. Mô hình AI dự kiến ​​​​sẽ phản hồi những thông điệp này. Trong LangChain, bạn có thể tùy chỉnh tiền tố con người (ví dụ: \"user\") trong phần tóm tắt cuộc trò chuyện để thay đổi cách thể hiện đầu vào của con người.\n",
    "- AIMessage: Những tin nhắn này được gửi từ góc nhìn của AI khi nó tương tác với người dùng. Chúng đại diện cho phản hồi của AI đối với đầu vào của con người. Giống như HumanMessage, bạn cũng có thể tùy chỉnh tiền tố AI (ví dụ: \"AI Assistant\" hoặc \"AI\") trong phần tóm tắt cuộc trò chuyện để thay đổi cách thể hiện các phản hồi của AI."
   ]
  },
  {
   "cell_type": "code",
   "execution_count": 14,
   "id": "c9e8e3eb-73c2-44c9-8740-5b3163af8cc7",
   "metadata": {},
   "outputs": [],
   "source": [
    "from langchain.chat_models import ChatOpenAI\r\n",
    "from langchain.schema import (\r\n",
    "  HumanMessage,\r\n",
    "  SystemMessage\r\n",
    ")"
   ]
  },
  {
   "cell_type": "code",
   "execution_count": 21,
   "id": "20d332ad-23a8-4a9b-9c92-abb1776ce9d9",
   "metadata": {},
   "outputs": [],
   "source": [
    "chat = ChatOpenAI(model_name=\"gpt-3.5-turbo\", temperature=0)"
   ]
  },
  {
   "cell_type": "code",
   "execution_count": 22,
   "id": "5af0bc70-b541-4c11-a852-4c415839001f",
   "metadata": {},
   "outputs": [],
   "source": [
    "messages = [\n",
    "\tSystemMessage(content=\"You are a helpful assistant that translates English to French.\"),\n",
    "\tHumanMessage(content=\"Translate the following sentence: I love programming.\")\n",
    "]"
   ]
  },
  {
   "cell_type": "code",
   "execution_count": 23,
   "id": "0440d55d-3ff8-47ef-b872-4bbd3041de54",
   "metadata": {},
   "outputs": [
    {
     "data": {
      "text/plain": [
       "AIMessage(content=\"J'adore la programmation.\", additional_kwargs={}, example=False)"
      ]
     },
     "execution_count": 23,
     "metadata": {},
     "output_type": "execute_result"
    }
   ],
   "source": [
    "chat(messages)"
   ]
  },
  {
   "cell_type": "code",
   "execution_count": 24,
   "id": "646ff8ba-2ed6-4fc3-aeab-7b6a801576db",
   "metadata": {},
   "outputs": [
    {
     "name": "stdout",
     "output_type": "stream",
     "text": [
      "generations=[[ChatGeneration(text=\"J'adore la programmation.\", generation_info=None, message=AIMessage(content=\"J'adore la programmation.\", additional_kwargs={}, example=False))], [ChatGeneration(text='I like programming.', generation_info=None, message=AIMessage(content='I like programming.', additional_kwargs={}, example=False))]] llm_output={'token_usage': {'prompt_tokens': 65, 'completion_tokens': 12, 'total_tokens': 77}, 'model_name': 'gpt-3.5-turbo'} run=RunInfo(run_id=UUID('a7583049-112e-4ab5-88ee-93c01da60087'))\n"
     ]
    }
   ],
   "source": [
    "batch_messages = [\n",
    "  [\n",
    "    SystemMessage(content=\"You are a helpful assistant that translates English to French.\"),\n",
    "    HumanMessage(content=\"Translate the following sentence: I love programming.\")\n",
    "  ],\n",
    "  [\n",
    "    SystemMessage(content=\"You are a helpful assistant that translates French to English.\"),\n",
    "    HumanMessage(content=\"Translate the following sentence: J'aime la programmation.\")\n",
    "  ],\n",
    "]\n",
    "print( chat.generate(batch_messages) )"
   ]
  },
  {
   "cell_type": "code",
   "execution_count": null,
   "id": "fcb5ef07-fd55-4ddf-99c6-1734c4350975",
   "metadata": {},
   "outputs": [],
   "source": []
  },
  {
   "cell_type": "code",
   "execution_count": null,
   "id": "8e104fbe-69fd-4dde-9c97-0601c4333a60",
   "metadata": {},
   "outputs": [],
   "source": []
  },
  {
   "cell_type": "markdown",
   "id": "d3136805-3b80-4081-8756-676e7b9c1c41",
   "metadata": {},
   "source": [
    "### Exploring Conversational Capabilities with GPT-4 and ChatGPT"
   ]
  },
  {
   "cell_type": "code",
   "execution_count": 25,
   "id": "757e8c57-d512-4b36-b6ba-ad29cd8e946f",
   "metadata": {},
   "outputs": [],
   "source": [
    "from langchain.chat_models import ChatOpenAI\n",
    "from langchain.schema import (\n",
    "    SystemMessage,\n",
    "    HumanMessage,\n",
    "    AIMessage\n",
    ")"
   ]
  },
  {
   "cell_type": "code",
   "execution_count": 26,
   "id": "820db74e-d60a-4d38-b792-89c4355b527c",
   "metadata": {},
   "outputs": [],
   "source": [
    "messages = [\n",
    "    SystemMessage(content=\"You are a helpful assistant.\"),\n",
    "    HumanMessage(content=\"What is the capital of France?\"),\n",
    "    AIMessage(content=\"The capital of France is Paris.\")\n",
    "]"
   ]
  },
  {
   "cell_type": "code",
   "execution_count": 27,
   "id": "a3d37bc9-aa32-4051-a976-bd90f88119db",
   "metadata": {},
   "outputs": [],
   "source": [
    "prompt = HumanMessage(\n",
    "    content=\"I'd like to know more about the city you just mentioned.\"\n",
    ")"
   ]
  },
  {
   "cell_type": "code",
   "execution_count": 28,
   "id": "64d0392d-118d-4894-8d2a-2a835e00105c",
   "metadata": {},
   "outputs": [],
   "source": [
    "# add to messages\n",
    "messages.append(prompt)"
   ]
  },
  {
   "cell_type": "code",
   "execution_count": 31,
   "id": "02150518-82f2-4099-8e1a-889709c5639f",
   "metadata": {},
   "outputs": [],
   "source": [
    "llm = ChatOpenAI(model_name=\"gpt-3.5-turbo\")"
   ]
  },
  {
   "cell_type": "code",
   "execution_count": 32,
   "id": "61cedd31-1be6-4856-951e-f0fae64d6f46",
   "metadata": {},
   "outputs": [],
   "source": [
    "response = llm(messages)"
   ]
  },
  {
   "cell_type": "code",
   "execution_count": 33,
   "id": "def9154b-95d2-42cb-beaa-af66e488f427",
   "metadata": {},
   "outputs": [
    {
     "data": {
      "text/plain": [
       "AIMessage(content=\"Certainly! Paris is not only the capital of France but also the country's largest city. It is located in the north-central part of France, along the River Seine. Paris is known for its rich history, stunning architecture, world-renowned museums, and vibrant culture.\\n\\nSome of the most famous landmarks in Paris include the Eiffel Tower, a symbol of the city and a must-visit attraction, the Notre-Dame Cathedral, a masterpiece of Gothic architecture, and the Louvre Museum, home to thousands of art pieces including the iconic Mona Lisa.\\n\\nParis is also known for its beautiful boulevards, picturesque neighborhoods like Montmartre, and charming cafes. The city is famous for its culinary delights, offering a wide range of French cuisine, from croissants and baguettes to escargots and exquisite pastries.\\n\\nParis is a global center for art, fashion, and culture, with numerous art galleries, fashion houses, and theaters. It hosts various cultural events throughout the year, including fashion weeks, music festivals, and art exhibitions.\\n\\nTransportation in Paris is well-developed, with an extensive metro system, buses, and taxis. The city also offers numerous parks and gardens, such as the Luxembourg Gardens and the Tuileries Garden, providing peaceful retreats from the bustling streets.\\n\\nOverall, Paris is a city that captivates visitors with its beauty, history, and cultural offerings, making it one of the most popular tourist destinations in the world.\", additional_kwargs={}, example=False)"
      ]
     },
     "execution_count": 33,
     "metadata": {},
     "output_type": "execute_result"
    },
    {
     "name": "stdout",
     "output_type": "stream",
     "text": [
      "The history saving thread hit an unexpected error (OperationalError('database or disk is full')).History will not be written to the database.\n"
     ]
    }
   ],
   "source": [
    "response"
   ]
  },
  {
   "cell_type": "code",
   "execution_count": null,
   "id": "cb7b7802-4244-408a-ada6-33c41dc54013",
   "metadata": {},
   "outputs": [],
   "source": []
  },
  {
   "cell_type": "code",
   "execution_count": null,
   "id": "f9201046-b47c-47eb-8303-fad9ce8eb6f0",
   "metadata": {},
   "outputs": [],
   "source": []
  },
  {
   "cell_type": "markdown",
   "id": "08e31ad3-43af-431f-8113-b3aac4c81a4d",
   "metadata": {},
   "source": [
    "### Build a News Articles Summarizer"
   ]
  },
  {
   "cell_type": "code",
   "execution_count": null,
   "id": "668317a5-0b57-475f-9af0-53504edb0643",
   "metadata": {},
   "outputs": [],
   "source": [
    "# Workflow for Building a News Articles Summarizer"
   ]
  },
  {
   "cell_type": "markdown",
   "id": "e4fae274-b388-4fcf-a11b-79c17deaaa80",
   "metadata": {},
   "source": [
    "\n",
    "<img src=\"images/workflow.avif\" width=\"100%\" height=\"30%\">"
   ]
  },
  {
   "cell_type": "markdown",
   "id": "d6b73502-7f61-4cbe-8fe5-23790026c9d7",
   "metadata": {},
   "source": [
    "1. Install required libraries: requests, newspaper3k, and langchain\n",
    "2. Scrape articles: Sử dụng thư viện requests để lấy nội dung của các bài báo bằng URL tương ứng.\n",
    "3. Extract titles and text: Sử dụng thư viện newspaper để phân tích cú pháp HTML và trích xuất tiêu đề cũng như văn bản của các bài báo.\n",
    "4. Preprocess the text: Làm sạch và xử lý trước các văn bản được trích xuất để làm cho chúng phù hợp để nhập vào ChatGPT.\n",
    "5. Generate summaries: Sử dụng ChatGPT để tóm tắt chính xác văn bản của bài viết được trích xuất.\n",
    "6. Output the results: Trình bày phần tóm tắt cùng với tiêu đề gốc, giúp người dùng có thể nắm bắt được ý chính của từng bài một cách nhanh chóng."
   ]
  },
  {
   "cell_type": "code",
   "execution_count": 3,
   "id": "7c0f31e8-5daa-4756-97a7-5bf8c676edd4",
   "metadata": {},
   "outputs": [],
   "source": [
    "import requests\n",
    "from newspaper import Article"
   ]
  },
  {
   "cell_type": "code",
   "execution_count": 4,
   "id": "f24b5507-5f0a-4f82-92d7-412079845466",
   "metadata": {},
   "outputs": [],
   "source": [
    "headers = {\n",
    "    'User-Agent': 'Mozilla/5.0 (Windows NT 10.0; Win64; x64) AppleWebKit/537.36 (KHTML, like Gecko) Chrome/89.0.4389.82 Safari/537.36'\n",
    "}"
   ]
  },
  {
   "cell_type": "code",
   "execution_count": 5,
   "id": "881de2f6-2da6-44dc-9059-b04a63111e7c",
   "metadata": {},
   "outputs": [],
   "source": [
    "article_url = \"https://www.artificialintelligence-news.com/2022/01/25/meta-claims-new-ai-supercomputer-will-set-records/\"\n",
    "\n",
    "session = requests.Session()"
   ]
  },
  {
   "cell_type": "code",
   "execution_count": 6,
   "id": "614bdbd1-1f5c-4d76-bf8d-3eafd0fa2b60",
   "metadata": {},
   "outputs": [
    {
     "name": "stdout",
     "output_type": "stream",
     "text": [
      "Title: Meta claims its new AI supercomputer will set records\n",
      "Text: Ryan is a senior editor at TechForge Media with over a decade of experience covering the latest technology and interviewing leading industry figures. He can often be sighted at tech conferences with a strong coffee in one hand and a laptop in the other. If it's geeky, he’s probably into it. Find him on Twitter (@Gadget_Ry) or Mastodon (@gadgetry@techhub.social)\n",
      "\n",
      "Meta (formerly Facebook) has unveiled an AI supercomputer that it claims will be the world’s fastest.\n",
      "\n",
      "The supercomputer is called the AI Research SuperCluster (RSC) and is yet to be fully complete. However, Meta’s researchers have already begun using it for training large natural language processing (NLP) and computer vision models.\n",
      "\n",
      "RSC is set to be fully built in mid-2022. Meta says that it will be the fastest in the world once complete and the aim is for it to be capable of training models with trillions of parameters.\n",
      "\n",
      "“We hope RSC will help us build entirely new AI systems that can, for example, power real-time voice translations to large groups of people, each speaking a different language, so they can seamlessly collaborate on a research project or play an AR game together,” wrote Meta in a blog post.\n",
      "\n",
      "“Ultimately, the work done with RSC will pave the way toward building technologies for the next major computing platform — the metaverse, where AI-driven applications and products will play an important role.”\n",
      "\n",
      "For production, Meta expects RSC will be 20x faster than Meta’s current V100-based clusters. RSC is also estimated to be 9x faster at running the NVIDIA Collective Communication Library (NCCL) and 3x faster at training large-scale NLP workflows.\n",
      "\n",
      "A model with tens of billions of parameters can finish training in three weeks compared with nine weeks prior to RSC.\n",
      "\n",
      "Meta says that its previous AI research infrastructure only leveraged open source and other publicly-available datasets. RSC was designed with the security and privacy controls in mind to allow Meta to use real-world examples from its production systems in production training.\n",
      "\n",
      "What this means in practice is that Meta can use RSC to advance research for vital tasks such as identifying harmful content on its platforms—using real data from them.\n",
      "\n",
      "“We believe this is the first time performance, reliability, security, and privacy have been tackled at such a scale,” says Meta.\n",
      "\n",
      "(Image Credit: Meta)\n",
      "\n",
      "Want to learn more about AI and big data from industry leaders? Check out AI & Big Data Expo. The next events in the series will be held in Santa Clara on 11-12 May 2022, Amsterdam on 20-21 September 2022, and London on 1-2 December 2022.\n",
      "\n",
      "Explore other upcoming enterprise technology events and webinars powered by TechForge here.\n"
     ]
    }
   ],
   "source": [
    "try:\n",
    "    response = session.get(article_url, headers=headers, timeout=10)\n",
    "    \n",
    "    if response.status_code == 200:\n",
    "        article = Article(article_url)\n",
    "        article.download()\n",
    "        article.parse()\n",
    "        \n",
    "        print(f\"Title: {article.title}\")\n",
    "        print(f\"Text: {article.text}\")\n",
    "        \n",
    "    else:\n",
    "        print(f\"Failed to fetch article at {article_url}\")\n",
    "except Exception as e:\n",
    "    print(f\"Error occurred while fetching article at {article_url}: {e}\")"
   ]
  },
  {
   "cell_type": "code",
   "execution_count": 7,
   "id": "8f31adfa-e023-4565-b00d-ead925346011",
   "metadata": {},
   "outputs": [],
   "source": [
    "from langchain.schema import (\n",
    "    HumanMessage\n",
    ")"
   ]
  },
  {
   "cell_type": "code",
   "execution_count": 8,
   "id": "b3a42a9e-f99c-43f9-8753-100f6c9219f7",
   "metadata": {},
   "outputs": [],
   "source": [
    "# we get the article data from the scraping part\n",
    "article_title = article.title\n",
    "article_text = article.text"
   ]
  },
  {
   "cell_type": "code",
   "execution_count": 9,
   "id": "2a8e168e-34ff-4df8-9ddd-e4689ae941e1",
   "metadata": {},
   "outputs": [],
   "source": [
    "# prepare template for prompt\n",
    "template = \"\"\"You are a very good assistant that summarizes online articles.\n",
    "\n",
    "Here's the article you want to summarize.\n",
    "\n",
    "==================\n",
    "Title: {article_title}\n",
    "\n",
    "{article_text}\n",
    "==================\n",
    "\n",
    "Write a summary of the previous article.\n",
    "\"\"\""
   ]
  },
  {
   "cell_type": "code",
   "execution_count": 10,
   "id": "fe80bbdd-4f18-4ea1-b914-d953efc866b8",
   "metadata": {},
   "outputs": [],
   "source": [
    "prompt = template.format(article_title=article.title, article_text=article.text)\n"
   ]
  },
  {
   "cell_type": "code",
   "execution_count": 11,
   "id": "edaa3aa2-a8d3-4bd8-bc41-abd442283154",
   "metadata": {},
   "outputs": [],
   "source": [
    "messages = [HumanMessage(content=prompt)]"
   ]
  },
  {
   "cell_type": "code",
   "execution_count": 12,
   "id": "10bfb5de-a195-4972-a1f5-78d2cc190116",
   "metadata": {},
   "outputs": [],
   "source": [
    "from langchain.chat_models import ChatOpenAI"
   ]
  },
  {
   "cell_type": "code",
   "execution_count": 13,
   "id": "e6eeb143-8a65-45ab-bfc8-6e94e1401d58",
   "metadata": {},
   "outputs": [],
   "source": [
    "chat = ChatOpenAI(model_name=\"gpt-3.5-turbo\", temperature=0)"
   ]
  },
  {
   "cell_type": "code",
   "execution_count": 14,
   "id": "6712a5b7-2495-40b7-89ae-616026efc5d1",
   "metadata": {},
   "outputs": [
    {
     "name": "stdout",
     "output_type": "stream",
     "text": [
      "Meta, formerly known as Facebook, has introduced its AI Research SuperCluster (RSC), an AI supercomputer that is expected to be the fastest in the world once completed in mid-2022. The RSC will be capable of training models with trillions of parameters and aims to enable the development of AI systems for real-time voice translations and collaborative experiences in the metaverse. Meta anticipates that the RSC will be 20 times faster than its current clusters, significantly improving training times for large-scale NLP workflows. The supercomputer was designed with security and privacy controls to allow Meta to use real-world examples from its production systems for research purposes.\n"
     ]
    }
   ],
   "source": [
    "# generate summary\n",
    "summary = chat(messages)\n",
    "print(summary.content)"
   ]
  },
  {
   "cell_type": "code",
   "execution_count": 15,
   "id": "6a258966-6d12-4be6-bf21-a93fdc61635b",
   "metadata": {},
   "outputs": [],
   "source": [
    "# prepare template for prompt\n",
    "template = \"\"\"You are an advanced AI assistant that summarizes online articles into bulleted lists.\n",
    "\n",
    "Here's the article you need to summarize.\n",
    "\n",
    "==================\n",
    "Title: {article_title}\n",
    "\n",
    "{article_text}\n",
    "==================\n",
    "\n",
    "Now, provide a summarized version of the article in a bulleted list format.\n",
    "\"\"\"\n"
   ]
  },
  {
   "cell_type": "code",
   "execution_count": 16,
   "id": "073ccc82-df04-4079-b007-a4c0f455e8f4",
   "metadata": {},
   "outputs": [
    {
     "name": "stdout",
     "output_type": "stream",
     "text": [
      "- Meta (formerly Facebook) has unveiled an AI supercomputer called the AI Research SuperCluster (RSC) that it claims will be the world's fastest.\n",
      "- The RSC is currently being used for training large natural language processing (NLP) and computer vision models.\n",
      "- Once fully built in mid-2022, Meta aims for the RSC to be capable of training models with trillions of parameters and to be the fastest in the world.\n",
      "- Meta hopes that the RSC will enable the development of new AI systems for real-time voice translations and collaboration in the metaverse.\n",
      "- The RSC is expected to be 20x faster than Meta's current clusters, 9x faster at running the NVIDIA Collective Communication Library (NCCL), and 3x faster at training large-scale NLP workflows.\n",
      "- With the RSC, Meta can train models with tens of billions of parameters in three weeks compared to nine weeks previously.\n",
      "- The RSC was designed with security and privacy controls in mind, allowing Meta to use real-world examples from its production systems for research purposes.\n",
      "- Meta believes that the RSC is the first infrastructure to tackle performance, reliability, security, and privacy at such a scale.\n"
     ]
    }
   ],
   "source": [
    "# format prompt\n",
    "prompt = template.format(article_title=article.title, article_text=article.text)\n",
    "\n",
    "# generate summary\n",
    "summary = chat([HumanMessage(content=prompt)])\n",
    "print(summary.content)"
   ]
  },
  {
   "cell_type": "code",
   "execution_count": 17,
   "id": "d1b12b6f-180d-42aa-a121-e34e34d44f71",
   "metadata": {},
   "outputs": [],
   "source": [
    "template = \"\"\"You are an advanced AI assistant that summarizes online articles into bulleted lists in French.\n",
    "\n",
    "Here's the article you need to summarize.\n",
    "\n",
    "==================\n",
    "Title: {article_title}\n",
    "\n",
    "{article_text}\n",
    "==================\n",
    "\n",
    "Now, provide a summarized version of the article in a bulleted list format, in French.\n",
    "\"\"\""
   ]
  },
  {
   "cell_type": "code",
   "execution_count": null,
   "id": "9e3d8ebb-d843-480c-81d3-67a95c64b6e5",
   "metadata": {},
   "outputs": [],
   "source": [
    "# format prompt\n",
    "prompt = template.format(article_title=article.title, article_text=article.text)\n",
    "\n",
    "# generate summary\n",
    "summary = chat([HumanMessage(content=prompt)])\n",
    "print(summary.content)"
   ]
  },
  {
   "cell_type": "code",
   "execution_count": null,
   "id": "48cbea8d-c108-4563-be69-3584bddd4026",
   "metadata": {},
   "outputs": [],
   "source": []
  }
 ],
 "metadata": {
  "kernelspec": {
   "display_name": "Python 3 (ipykernel)",
   "language": "python",
   "name": "python3"
  },
  "language_info": {
   "codemirror_mode": {
    "name": "ipython",
    "version": 3
   },
   "file_extension": ".py",
   "mimetype": "text/x-python",
   "name": "python",
   "nbconvert_exporter": "python",
   "pygments_lexer": "ipython3",
   "version": "3.11.5"
  }
 },
 "nbformat": 4,
 "nbformat_minor": 5
}
