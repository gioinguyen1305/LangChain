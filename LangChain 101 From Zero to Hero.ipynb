{
 "cells": [
  {
   "cell_type": "code",
   "execution_count": 1,
   "id": "28a8a565",
   "metadata": {},
   "outputs": [],
   "source": [
    "from utils import setup_openai_key\n",
    "from langchain.llms import OpenAI"
   ]
  },
  {
   "cell_type": "code",
   "execution_count": 2,
   "id": "6dcc6519-cc07-4584-907b-f650fecc80b2",
   "metadata": {},
   "outputs": [],
   "source": [
    "# \n",
    "setup_openai_key()"
   ]
  },
  {
   "cell_type": "code",
   "execution_count": null,
   "id": "638d104b-f10a-47c5-828c-62dcae7f73e7",
   "metadata": {},
   "outputs": [],
   "source": []
  }
 ],
 "metadata": {
  "kernelspec": {
   "display_name": "Python 3 (ipykernel)",
   "language": "python",
   "name": "python3"
  },
  "language_info": {
   "codemirror_mode": {
    "name": "ipython",
    "version": 3
   },
   "file_extension": ".py",
   "mimetype": "text/x-python",
   "name": "python",
   "nbconvert_exporter": "python",
   "pygments_lexer": "ipython3",
   "version": "3.11.5"
  }
 },
 "nbformat": 4,
 "nbformat_minor": 5
}
